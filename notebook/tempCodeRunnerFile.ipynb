import pandas as pd

# Load matches file (ensure pipeline.py was run before this)
file_path = "ml_engine/data/processed/matches.csv"

try:
    matches = pd.read_csv(file_path)
except FileNotFoundError:
    raise FileNotFoundError(f"⚠️ Matches file not found at {file_path}. "
                            "Run `python pipeline.py --top_k 3` first.")

# Ensure full list is visible
pd.set_option("display.max_colwidth", None)

# Preview top 5 students
print("✅ Previewing first 5 students with recommendations:\n")
display(matches.head(5))

# Pretty print recommendations for top 5 students
print("\n🎯 Detailed Recommendations (Top 5 Students):")
for idx, row in matches.head(5).iterrows():
    print(f"\n🎓 Student: {row['student_id']}")
    print("Top Matches:")
    try:
        recs = eval(row["top_matches"])  # convert string back to list of tuples
        for job_id, score in recs:
            print(f"  - Internship {job_id} (score: {score:.2f})")
    except Exception as e:
        print(f"⚠️ Could not parse recommendations for {row['student_id']}: {e}")
